{
 "cells": [
  {
   "cell_type": "code",
   "execution_count": 50,
   "metadata": {
    "collapsed": true
   },
   "outputs": [],
   "source": [
    "import numpy as np\n",
    "import matplotlib.pyplot as plt\n",
    "from tqdm import tqdm_notebook as tqdm, tnrange as trange\n",
    "%matplotlib inline"
   ]
  },
  {
   "cell_type": "markdown",
   "metadata": {},
   "source": [
    "# Replicate \"right panel\" experiment from appendix with 4 losses"
   ]
  },
  {
   "cell_type": "code",
   "execution_count": 3,
   "metadata": {
    "collapsed": true
   },
   "outputs": [],
   "source": [
    "def simult(x):\n",
    "    return np.array([x[1:].sum(), x[2:].sum() - x[0], x[-1] - x[:2].sum(), -x[:-1].sum()])"
   ]
  },
  {
   "cell_type": "code",
   "execution_count": 4,
   "metadata": {
    "collapsed": true
   },
   "outputs": [],
   "source": [
    "def half_norm_grad(x):\n",
    "    return np.array([3*x[0] + 2*x[1] - 2*x[3],\n",
    "                     2*x[0] + 3*x[1] + 2*x[2],\n",
    "                     2*x[1] + 3*x[2] + 2*x[3],\n",
    "                     (-2)*x[0] + 2*x[2] + 3*x[3]])"
   ]
  },
  {
   "cell_type": "code",
   "execution_count": 5,
   "metadata": {
    "collapsed": true
   },
   "outputs": [],
   "source": [
    "def get_losses(x):\n",
    "    return np.array([x[0]*x[1:].sum(),\n",
    "                     x[1] * (x[2:].sum() - x[0]),\n",
    "                     x[2] * (x[3] - x[:2].sum()),\n",
    "                     x[3] * (-x[:-1].sum())])"
   ]
  },
  {
   "cell_type": "code",
   "execution_count": 7,
   "metadata": {
    "collapsed": true
   },
   "outputs": [],
   "source": [
    "antisymm = np.array([[0, 1, 1, 1],\n",
    "                     [-1, 0, 1, 1],\n",
    "                     [-1, -1, 0, 1],\n",
    "                     [-1, -1, -1, 0]])"
   ]
  },
  {
   "cell_type": "code",
   "execution_count": 8,
   "metadata": {
    "collapsed": true
   },
   "outputs": [],
   "source": [
    "def has_converged(losses):\n",
    "    last_losses = np.array(losses[-10:])\n",
    "    for i in range(x.shape[0]):\n",
    "        cur_mean = last_losses[:, i].mean()\n",
    "        if cur_mean > 0.1:\n",
    "            return False\n",
    "    return True"
   ]
  },
  {
   "cell_type": "markdown",
   "metadata": {},
   "source": [
    "# Simult grad descent"
   ]
  },
  {
   "cell_type": "code",
   "execution_count": 186,
   "metadata": {},
   "outputs": [
    {
     "name": "stdout",
     "output_type": "stream",
     "text": [
      "[-0.82357031  0.25542281 -0.84583361 -0.47173342]\n"
     ]
    }
   ],
   "source": [
    "x = np.random.normal(size=4)\n",
    "print(x)"
   ]
  },
  {
   "cell_type": "code",
   "execution_count": 40,
   "metadata": {
    "collapsed": true
   },
   "outputs": [],
   "source": [
    "iters = 10000\n",
    "lr = 0.01\n",
    "diffs = []\n",
    "for it in range(iters):\n",
    "    x_new = x - lr * simult(x)\n",
    "    diff = np.linalg.norm(x_new - x)\n",
    "    diffs.append(diff)\n",
    "    x = x_new"
   ]
  },
  {
   "cell_type": "markdown",
   "metadata": {},
   "source": [
    "Diverges!"
   ]
  },
  {
   "cell_type": "markdown",
   "metadata": {},
   "source": [
    "# SGA with convergence criterion"
   ]
  },
  {
   "cell_type": "code",
   "execution_count": 194,
   "metadata": {},
   "outputs": [
    {
     "name": "stdout",
     "output_type": "stream",
     "text": [
      "[ 0.64486513  0.68124375  1.13157652  1.24513039]\n"
     ]
    }
   ],
   "source": [
    "x = np.random.normal(size=4)\n",
    "print(x)"
   ]
  },
  {
   "cell_type": "code",
   "execution_count": 195,
   "metadata": {},
   "outputs": [
    {
     "name": "stdout",
     "output_type": "stream",
     "text": [
      "Converged early at iteration 3984\n"
     ]
    }
   ],
   "source": [
    "iters = 10000\n",
    "lr = 0.0001\n",
    "diffs = []\n",
    "losses = []\n",
    "for it in range(iters):\n",
    "    grad_new = (np.eye(antisymm.shape[0]) + antisymm.T) @ simult(x)\n",
    "    x_new = x - lr * grad_new\n",
    "    diff = np.linalg.norm(x_new - x)\n",
    "    diffs.append(diff)\n",
    "    losses.append(get_losses(x))\n",
    "    x = x_new\n",
    "    if has_converged(losses):\n",
    "        print(f'Converged early at iteration {it+1}')\n",
    "        break"
   ]
  },
  {
   "cell_type": "code",
   "execution_count": 196,
   "metadata": {
    "scrolled": false
   },
   "outputs": [
    {
     "data": {
      "text/plain": [
       "[<matplotlib.lines.Line2D at 0x1e5df49fe48>]"
      ]
     },
     "execution_count": 196,
     "metadata": {},
     "output_type": "execute_result"
    },
    {
     "data": {
      "image/png": "[encoded data removed]",
      "text/plain": [
       "<Figure size 432x288 with 1 Axes>"
      ]
     },
     "metadata": {},
     "output_type": "display_data"
    }
   ],
   "source": [
    "plt.plot(diffs)"
   ]
  },
  {
   "cell_type": "markdown",
   "metadata": {},
   "source": [
    "# Now with alignment"
   ]
  },
  {
   "cell_type": "markdown",
   "metadata": {
    "collapsed": true
   },
   "source": [
    "grad = grad of 1/2 norm of simult wrt player params\n",
    "\n",
    "lam = 1/d (simult, grad) (A^T simult, grad) + eps, d=4, eps=0.1"
   ]
  },
  {
   "cell_type": "code",
   "execution_count": 151,
   "metadata": {},
   "outputs": [
    {
     "name": "stdout",
     "output_type": "stream",
     "text": [
      "[ 0.33162797 -1.58073957 -1.51677535 -1.22340763]\n"
     ]
    }
   ],
   "source": [
    "x = np.random.normal(size=4)\n",
    "print(x)"
   ]
  },
  {
   "cell_type": "code",
   "execution_count": 152,
   "metadata": {
    "collapsed": true
   },
   "outputs": [],
   "source": [
    "iters = 10000\n",
    "lr = 0.0001\n",
    "eps = 0.1\n",
    "diffs = []\n",
    "for it in range(iters):\n",
    "    lam_expr = (simult(x) @ half_norm_grad(x)) * ((antisymm.T @ simult(x)) @ half_norm_grad(x)) / x.shape[0] + eps\n",
    "    lam = 1 if lam_expr >= 0 else -1\n",
    "    grad_new = (np.eye(antisymm.shape[0]) + lam * antisymm.T) @ simult(x)\n",
    "    x_new = x - lr * grad_new\n",
    "    diff = np.linalg.norm(x_new - x)\n",
    "    diffs.append(diff)\n",
    "    x = x_new"
   ]
  },
  {
   "cell_type": "code",
   "execution_count": 153,
   "metadata": {},
   "outputs": [
    {
     "data": {
      "text/plain": [
       "[<matplotlib.lines.Line2D at 0x1e5ddff3ba8>]"
      ]
     },
     "execution_count": 153,
     "metadata": {},
     "output_type": "execute_result"
    },
    {
     "data": {
      "image/png": "[encoded data removed]",
      "text/plain": [
       "<Figure size 432x288 with 1 Axes>"
      ]
     },
     "metadata": {},
     "output_type": "display_data"
    }
   ],
   "source": [
    "plt.plot(diffs)"
   ]
  },
  {
   "cell_type": "markdown",
   "metadata": {},
   "source": [
    "Here lam_expr is almost exactly equal to eps and so the behavior is the same"
   ]
  },
  {
   "cell_type": "markdown",
   "metadata": {},
   "source": [
    "# Dependency of time to convergence on lr"
   ]
  },
  {
   "cell_type": "code",
   "execution_count": 55,
   "metadata": {},
   "outputs": [
    {
     "data": {
      "application/vnd.jupyter.widget-view+json": {
       "model_id": "36cfdf1044e1442ebe4052969c724623"
      }
     },
     "metadata": {},
     "output_type": "display_data"
    },
    {
     "name": "stdout",
     "output_type": "stream",
     "text": [
      "\n"
     ]
    }
   ],
   "source": [
    "results = []\n",
    "for lr in tqdm(np.arange(0.005, 0.25, 0.005)):\n",
    "    cur_results = []\n",
    "    for i in range(50):\n",
    "        x = np.random.normal(size=4)\n",
    "        iters = 100000  # maximum number of iterations\n",
    "        losses = []\n",
    "        for it in range(iters):\n",
    "            grad_new = (np.eye(antisymm.shape[0]) + antisymm.T) @ simult(x)\n",
    "            x_new = x - lr * grad_new\n",
    "            losses.append(get_losses(x))\n",
    "            x = x_new\n",
    "            if has_converged(losses):\n",
    "                break\n",
    "        cur_results.append(it+1)\n",
    "    cur_results = np.array(cur_results)\n",
    "#     results.append([cur_results.mean(), cur_results.std()])\n",
    "    results.append(cur_results.mean())"
   ]
  },
  {
   "cell_type": "code",
   "execution_count": 59,
   "metadata": {},
   "outputs": [
    {
     "data": {
      "text/plain": [
       "Text(0,0.5,'Number of iterations')"
      ]
     },
     "execution_count": 59,
     "metadata": {},
     "output_type": "execute_result"
    },
    {
     "data": {
      "image/png": "[encoded data removed]",
      "text/plain": [
       "<Figure size 432x288 with 1 Axes>"
      ]
     },
     "metadata": {},
     "output_type": "display_data"
    }
   ],
   "source": [
    "plt.plot(results)\n",
    "plt.title('Iterations to convergence (with criterion from the paper)')\n",
    "plt.xlabel('Learning rate')\n",
    "plt.ylabel('Number of iterations')"
   ]
  },
  {
   "cell_type": "code",
   "execution_count": null,
   "metadata": {
    "collapsed": true
   },
   "outputs": [],
   "source": []
  }
 ],
 "metadata": {
  "kernelspec": {
   "display_name": "Python 3",
   "language": "python",
   "name": "python3"
  },
  "language_info": {
   "codemirror_mode": {
    "name": "ipython",
    "version": 3
   },
   "file_extension": ".py",
   "mimetype": "text/x-python",
   "name": "python",
   "nbconvert_exporter": "python",
   "pygments_lexer": "ipython3",
   "version": "3.6.6"
  }
 },
 "nbformat": 4,
 "nbformat_minor": 2
}
