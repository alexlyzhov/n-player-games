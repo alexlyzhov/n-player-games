{
 "cells": [
  {
   "cell_type": "code",
   "execution_count": 1,
   "metadata": {
    "collapsed": true
   },
   "outputs": [],
   "source": [
    "import numpy as np\n",
    "import matplotlib.pyplot as plt\n",
    "%matplotlib inline\n",
    "import warnings\n",
    "warnings.filterwarnings('ignore')"
   ]
  },
  {
   "cell_type": "code",
   "execution_count": 22,
   "metadata": {
    "collapsed": true
   },
   "outputs": [],
   "source": [
    "eps = 1/100"
   ]
  },
  {
   "cell_type": "code",
   "execution_count": 3,
   "metadata": {
    "collapsed": true
   },
   "outputs": [],
   "source": [
    "A = np.array([[0, 1, 1, 1],\n",
    "             [-1, 0, 1, 1],\n",
    "             [-1, -1, 0, 1],\n",
    "             [-1, -1, -1, 0]])"
   ]
  },
  {
   "cell_type": "code",
   "execution_count": 4,
   "metadata": {
    "collapsed": true
   },
   "outputs": [],
   "source": [
    "S = np.diag([eps]*A.shape[0])"
   ]
  },
  {
   "cell_type": "code",
   "execution_count": 5,
   "metadata": {
    "collapsed": true
   },
   "outputs": [],
   "source": [
    "def get_losses(x,eps):\n",
    "    return np.array([x[0]*simult(x,eps)[0],\n",
    "                     x[1] * simult(x,eps)[1],\n",
    "                     x[2] * simult(x,eps)[2],\n",
    "                     x[3] * simult(x,eps)[3]])"
   ]
  },
  {
   "cell_type": "code",
   "execution_count": 6,
   "metadata": {
    "collapsed": true
   },
   "outputs": [],
   "source": [
    "def simult(x,eps):\n",
    "    return np.array([x[1:].sum()+eps*x[0], x[2:].sum() - x[0] + eps*x[1], x[-1] - x[:2].sum() + eps*x[2], -x[:-1].sum() + eps*x[-1]])"
   ]
  },
  {
   "cell_type": "code",
   "execution_count": 7,
   "metadata": {
    "collapsed": true
   },
   "outputs": [],
   "source": [
    "def has_converged(losses):\n",
    "    last_losses = np.array(losses[-10:])\n",
    "    for i in range(x.shape[0]):\n",
    "        cur_mean = last_losses[:, i].mean()\n",
    "        if cur_mean > 0.1:\n",
    "            return False\n",
    "    return True"
   ]
  },
  {
   "cell_type": "markdown",
   "metadata": {},
   "source": [
    "### Comparison of converges of SGA and OMD for  4-player game. Experiment from appendix."
   ]
  },
  {
   "cell_type": "markdown",
   "metadata": {},
   "source": [
    "### Optimistic mirror descent (criteria of convergence from papper)"
   ]
  },
  {
   "cell_type": "code",
   "execution_count": 36,
   "metadata": {},
   "outputs": [
    {
     "name": "stdout",
     "output_type": "stream",
     "text": [
      "[-0.79728239  0.06161539 -0.01203284 -0.76114275]\n"
     ]
    }
   ],
   "source": [
    "x = np.random.normal(size=4)\n",
    "print(x)"
   ]
  },
  {
   "cell_type": "code",
   "execution_count": 37,
   "metadata": {},
   "outputs": [
    {
     "name": "stdout",
     "output_type": "stream",
     "text": [
      "Converged early at iteration 14\n"
     ]
    },
    {
     "data": {
      "text/plain": [
       "[<matplotlib.lines.Line2D at 0x81eac18>]"
      ]
     },
     "execution_count": 37,
     "metadata": {},
     "output_type": "execute_result"
    },
    {
     "data": {
      "image/png": "[encoded data removed]",
      "text/plain": [
       "<Figure size 432x288 with 1 Axes>"
      ]
     },
     "metadata": {
      "needs_background": "light"
     },
     "output_type": "display_data"
    }
   ],
   "source": [
    "iters = 100000\n",
    "lr = 0.2\n",
    "diffs = []\n",
    "losses = []\n",
    "previous_gradient = simult(x,eps)\n",
    "for it in range(iters):\n",
    "    gradient = simult(x,eps)\n",
    "    x_new = x + 2* lr * gradient - lr * previous_gradient\n",
    "    diff = np.linalg.norm(x_new - x)\n",
    "    diffs.append(diff)\n",
    "    previous_gradient = gradient\n",
    "    losses.append(get_losses(x,eps))\n",
    "    x = x_new\n",
    "    if has_converged(losses):\n",
    "        print(f'Converged early at iteration {it+1}')\n",
    "        break\n",
    "\n",
    "plt.title('Convergence of OMD')\n",
    "plt.ylabel('|x(k+1)-x(k)')\n",
    "plt.xlabel('Number of iterations')\n",
    "plt.plot(diffs)"
   ]
  },
  {
   "cell_type": "markdown",
   "metadata": {},
   "source": [
    "# SGA with convergence criterion"
   ]
  },
  {
   "cell_type": "code",
   "execution_count": 38,
   "metadata": {},
   "outputs": [
    {
     "name": "stdout",
     "output_type": "stream",
     "text": [
      "[-0.68111806  0.09578173  2.06330902 -0.97562929]\n"
     ]
    }
   ],
   "source": [
    "x = np.random.normal(size=4)\n",
    "print(x)"
   ]
  },
  {
   "cell_type": "code",
   "execution_count": 39,
   "metadata": {},
   "outputs": [
    {
     "name": "stdout",
     "output_type": "stream",
     "text": [
      "Converged early at iteration 135\n"
     ]
    }
   ],
   "source": [
    "iters = 10000\n",
    "lr = 0.032\n",
    "diffs = []\n",
    "losses = []\n",
    "for it in range(iters):\n",
    "    grad_new = (S+A.T) @ simult(x,eps)\n",
    "    x_new = x - lr * grad_new\n",
    "    diff = np.linalg.norm(x_new - x)\n",
    "    diffs.append(diff)\n",
    "    losses.append(get_losses(x,eps))\n",
    "    x = x_new\n",
    "    if has_converged(losses):\n",
    "        print(f'Converged early at iteration {it+1}')\n",
    "        break"
   ]
  },
  {
   "cell_type": "code",
   "execution_count": 40,
   "metadata": {},
   "outputs": [
    {
     "data": {
      "text/plain": [
       "[<matplotlib.lines.Line2D at 0x824cc50>]"
      ]
     },
     "execution_count": 40,
     "metadata": {},
     "output_type": "execute_result"
    },
    {
     "data": {
      "image/png": "[encoded data removed]",
      "text/plain": [
       "<Figure size 432x288 with 1 Axes>"
      ]
     },
     "metadata": {
      "needs_background": "light"
     },
     "output_type": "display_data"
    }
   ],
   "source": [
    "plt.title('Convergence of SGA')\n",
    "plt.ylabel('|x(k+1)-x(k)')\n",
    "plt.xlabel('Number of iterations')\n",
    "plt.plot(diffs)"
   ]
  },
  {
   "cell_type": "markdown",
   "metadata": {},
   "source": [
    "### Dependency of time to convergence on learning rates for SGA and OMD"
   ]
  },
  {
   "cell_type": "markdown",
   "metadata": {},
   "source": [
    "#### 1.Weakly positive definite $S$ with $\\epsilon = \\frac{1}{100}$"
   ]
  },
  {
   "cell_type": "code",
   "execution_count": 13,
   "metadata": {},
   "outputs": [
    {
     "name": "stdout",
     "output_type": "stream",
     "text": [
      "0.005\n",
      "0.006\n",
      "0.007\n",
      "0.008\n",
      "0.009000000000000001\n",
      "0.01\n",
      "0.011\n",
      "0.012\n",
      "0.013000000000000001\n",
      "0.014000000000000002\n",
      "0.015\n",
      "0.016\n",
      "0.017\n",
      "0.018000000000000002\n",
      "0.019\n",
      "0.02\n",
      "0.021\n",
      "0.022000000000000002\n",
      "0.023000000000000003\n",
      "0.024\n",
      "0.025\n",
      "0.026000000000000002\n",
      "0.027\n",
      "0.028\n",
      "0.029\n",
      "0.030000000000000002\n",
      "0.031000000000000003\n",
      "0.032\n",
      "0.033\n",
      "0.034\n",
      "0.034999999999999996\n",
      "0.036\n",
      "0.037\n",
      "0.038\n",
      "0.039\n",
      "0.04\n",
      "0.041\n",
      "0.041999999999999996\n",
      "0.043\n",
      "0.044\n",
      "0.045\n",
      "0.046\n",
      "0.047\n",
      "0.048\n",
      "0.048999999999999995\n",
      "0.049999999999999996\n",
      "0.051\n",
      "0.052\n",
      "0.053\n",
      "0.054\n",
      "0.055\n",
      "0.056\n",
      "0.057\n",
      "0.057999999999999996\n",
      "0.059\n",
      "0.06\n",
      "0.061\n",
      "0.062\n",
      "0.063\n",
      "0.064\n",
      "0.065\n",
      "0.066\n",
      "0.067\n",
      "0.068\n",
      "0.069\n",
      "0.07\n",
      "0.07100000000000001\n",
      "0.07200000000000001\n",
      "0.07300000000000001\n",
      "0.07400000000000001\n",
      "0.07500000000000001\n",
      "0.07600000000000001\n",
      "0.07700000000000001\n",
      "0.078\n",
      "0.079\n",
      "0.08\n",
      "0.081\n",
      "0.082\n",
      "0.083\n",
      "0.084\n",
      "0.085\n",
      "0.08600000000000001\n",
      "0.08700000000000001\n",
      "0.08800000000000001\n",
      "0.08900000000000001\n",
      "0.09000000000000001\n",
      "0.09100000000000001\n",
      "0.09200000000000001\n",
      "0.093\n",
      "0.094\n",
      "0.095\n",
      "0.096\n",
      "0.097\n",
      "0.098\n",
      "0.099\n",
      "0.1\n",
      "0.101\n",
      "0.10200000000000001\n",
      "0.10300000000000001\n",
      "0.10400000000000001\n",
      "0.10500000000000001\n",
      "0.10600000000000001\n",
      "0.10700000000000001\n",
      "0.10800000000000001\n",
      "0.10900000000000001\n",
      "0.11\n",
      "0.111\n",
      "0.112\n",
      "0.113\n",
      "0.114\n",
      "0.115\n",
      "0.116\n",
      "0.117\n",
      "0.11800000000000001\n",
      "0.11900000000000001\n",
      "0.12000000000000001\n",
      "0.12100000000000001\n",
      "0.12200000000000001\n",
      "0.12300000000000001\n",
      "0.12400000000000001\n",
      "0.125\n",
      "0.126\n",
      "0.127\n",
      "0.128\n",
      "0.129\n",
      "0.13\n",
      "0.131\n",
      "0.132\n",
      "0.133\n",
      "0.134\n",
      "0.135\n",
      "0.136\n",
      "0.137\n",
      "0.138\n",
      "0.139\n",
      "0.14\n",
      "0.14100000000000001\n",
      "0.14200000000000002\n",
      "0.14300000000000002\n",
      "0.14400000000000002\n",
      "0.14500000000000002\n",
      "0.14600000000000002\n",
      "0.14700000000000002\n",
      "0.14800000000000002\n",
      "0.14900000000000002\n",
      "0.15\n",
      "0.151\n",
      "0.152\n",
      "0.153\n",
      "0.154\n",
      "0.155\n",
      "0.156\n",
      "0.157\n",
      "0.158\n",
      "0.159\n",
      "0.16\n",
      "0.161\n",
      "0.162\n",
      "0.163\n",
      "0.164\n",
      "0.165\n",
      "0.166\n",
      "0.167\n",
      "0.168\n",
      "0.169\n",
      "0.17\n",
      "0.171\n",
      "0.17200000000000001\n",
      "0.17300000000000001\n",
      "0.17400000000000002\n",
      "0.17500000000000002\n",
      "0.17600000000000002\n",
      "0.17700000000000002\n",
      "0.17800000000000002\n",
      "0.17900000000000002\n",
      "0.18000000000000002\n",
      "0.181\n",
      "0.182\n",
      "0.183\n",
      "0.184\n",
      "0.185\n",
      "0.186\n",
      "0.187\n",
      "0.188\n",
      "0.189\n",
      "0.19\n",
      "0.191\n",
      "0.192\n",
      "0.193\n",
      "0.194\n",
      "0.195\n",
      "0.196\n",
      "0.197\n",
      "0.198\n",
      "0.199\n",
      "0.2\n",
      "0.201\n",
      "0.202\n",
      "0.203\n",
      "0.20400000000000001\n",
      "0.20500000000000002\n",
      "0.20600000000000002\n",
      "0.20700000000000002\n",
      "0.20800000000000002\n",
      "0.20900000000000002\n",
      "0.21000000000000002\n",
      "0.21100000000000002\n",
      "0.21200000000000002\n",
      "0.21300000000000002\n",
      "0.214\n",
      "0.215\n",
      "0.216\n",
      "0.217\n",
      "0.218\n",
      "0.219\n",
      "0.22\n",
      "0.221\n",
      "0.222\n",
      "0.223\n",
      "0.224\n",
      "0.225\n",
      "0.226\n",
      "0.227\n",
      "0.228\n",
      "0.229\n",
      "0.23\n",
      "0.231\n",
      "0.232\n",
      "0.233\n",
      "0.234\n",
      "0.23500000000000001\n",
      "0.23600000000000002\n",
      "0.23700000000000002\n",
      "0.23800000000000002\n",
      "0.23900000000000002\n",
      "0.24000000000000002\n",
      "0.24100000000000002\n",
      "0.24200000000000002\n",
      "0.24300000000000002\n",
      "0.24400000000000002\n",
      "0.245\n",
      "0.246\n",
      "0.247\n",
      "0.248\n",
      "0.249\n"
     ]
    }
   ],
   "source": [
    "results = []\n",
    "for lr in np.arange(0.005, 0.25, 0.001):\n",
    "    print(lr)\n",
    "    cur_results = []\n",
    "    for i in range(50):\n",
    "        x = np.random.normal(size=4)\n",
    "        iters = 100000  # maximum number of iterations\n",
    "        losses = []\n",
    "        for it in range(iters):\n",
    "            grad_new = (S + A.T) @ simult(x,eps)\n",
    "            x_new = x - lr * grad_new\n",
    "            losses.append(get_losses(x,eps))\n",
    "            x = x_new\n",
    "            if has_converged(losses):\n",
    "                break\n",
    "        cur_results.append(it+1)\n",
    "    cur_results = np.array(cur_results)\n",
    "    results.append(cur_results.mean())"
   ]
  },
  {
   "cell_type": "code",
   "execution_count": 14,
   "metadata": {},
   "outputs": [
    {
     "name": "stdout",
     "output_type": "stream",
     "text": [
      "0.005\n",
      "0.01\n",
      "0.015\n",
      "0.02\n",
      "0.025\n",
      "0.030000000000000002\n",
      "0.034999999999999996\n",
      "0.04\n",
      "0.045\n",
      "0.049999999999999996\n",
      "0.055\n",
      "0.06\n",
      "0.065\n",
      "0.07\n",
      "0.07500000000000001\n",
      "0.08\n",
      "0.085\n",
      "0.09000000000000001\n",
      "0.095\n",
      "0.1\n",
      "0.10500000000000001\n",
      "0.11\n",
      "0.115\n",
      "0.12000000000000001\n",
      "0.125\n",
      "0.13\n",
      "0.135\n",
      "0.14\n",
      "0.14500000000000002\n",
      "0.15\n",
      "0.155\n",
      "0.16\n",
      "0.165\n",
      "0.17\n",
      "0.17500000000000002\n",
      "0.18000000000000002\n",
      "0.185\n",
      "0.19\n",
      "0.195\n",
      "0.2\n",
      "0.20500000000000002\n",
      "0.21000000000000002\n",
      "0.215\n",
      "0.22\n",
      "0.225\n",
      "0.23\n",
      "0.23500000000000001\n",
      "0.24000000000000002\n",
      "0.245\n"
     ]
    }
   ],
   "source": [
    "results1 = []\n",
    "for lr in np.arange(0.005, 0.25, 0.005):\n",
    "    print(lr)\n",
    "    cur_results = []\n",
    "    for i in range(50):\n",
    "        x = np.random.normal(size=4)\n",
    "        iters = 10000  # maximum number of iterations\n",
    "        losses = []\n",
    "        previous_gradient = 0\n",
    "        for it in range(iters):\n",
    "            gradient = simult(x,eps)\n",
    "            x_new = x + 2* lr * gradient - lr * previous_gradient\n",
    "            losses.append(get_losses(x,eps))\n",
    "            previous_gradient = gradient\n",
    "            x = x_new\n",
    "            if has_converged(losses):\n",
    "                break\n",
    "        cur_results.append(it+1)\n",
    "    cur_results = np.array(cur_results)\n",
    "    results1.append(cur_results.mean())"
   ]
  },
  {
   "cell_type": "code",
   "execution_count": 16,
   "metadata": {},
   "outputs": [
    {
     "data": {
      "text/plain": [
       "<matplotlib.legend.Legend at 0x767c7f0>"
      ]
     },
     "execution_count": 16,
     "metadata": {},
     "output_type": "execute_result"
    },
    {
     "data": {
      "image/png": "[encoded data removed]",
      "text/plain": [
       "<Figure size 432x288 with 1 Axes>"
      ]
     },
     "metadata": {
      "needs_background": "light"
     },
     "output_type": "display_data"
    }
   ],
   "source": [
    "for i in range(len(results1)):\n",
    "    if results1[i]>5000:\n",
    "        results1[i] = 5000\n",
    "\n",
    "plt.plot(np.arange(0.005, 0.25, 0.005),results1, label = 'OMD')\n",
    "plt.plot(np.arange(0.005, 0.25, 0.001),results, label = 'SGA')\n",
    "plt.title('Iterations to convergence (with criterion from the paper)')\n",
    "plt.xlabel('Learning rate')\n",
    "plt.ylabel('Number of iterations')\n",
    "plt.legend()"
   ]
  },
  {
   "cell_type": "markdown",
   "metadata": {},
   "source": [
    "#### Symmetric component $S$ is identically zero."
   ]
  },
  {
   "cell_type": "code",
   "execution_count": 17,
   "metadata": {},
   "outputs": [
    {
     "name": "stdout",
     "output_type": "stream",
     "text": [
      "0.005\n",
      "0.01\n",
      "0.015\n",
      "0.02\n",
      "0.025\n",
      "0.030000000000000002\n",
      "0.034999999999999996\n",
      "0.04\n",
      "0.045\n",
      "0.049999999999999996\n",
      "0.055\n",
      "0.06\n",
      "0.065\n",
      "0.07\n",
      "0.07500000000000001\n",
      "0.08\n",
      "0.085\n",
      "0.09000000000000001\n",
      "0.095\n",
      "0.1\n",
      "0.10500000000000001\n",
      "0.11\n",
      "0.115\n",
      "0.12000000000000001\n",
      "0.125\n",
      "0.13\n",
      "0.135\n",
      "0.14\n",
      "0.14500000000000002\n",
      "0.15\n",
      "0.155\n",
      "0.16\n",
      "0.165\n",
      "0.17\n",
      "0.17500000000000002\n",
      "0.18000000000000002\n",
      "0.185\n",
      "0.19\n",
      "0.195\n",
      "0.2\n",
      "0.20500000000000002\n",
      "0.21000000000000002\n",
      "0.215\n",
      "0.22\n",
      "0.225\n",
      "0.23\n",
      "0.23500000000000001\n",
      "0.24000000000000002\n",
      "0.245\n"
     ]
    }
   ],
   "source": [
    "results0 = []\n",
    "eps = 0\n",
    "S = np.diag([eps]*A.shape[0])\n",
    "for lr in np.arange(0.005, 0.25, 0.005):\n",
    "    print(lr)\n",
    "    cur_results = []\n",
    "    for i in range(50):\n",
    "        x = np.random.normal(size=4)\n",
    "        iters = 10000  # maximum number of iterations\n",
    "        losses = []\n",
    "        for it in range(iters):\n",
    "            grad_new = (S + A.T) @ simult(x,eps)\n",
    "            x_new = x - lr * grad_new\n",
    "            losses.append(get_losses(x,eps))\n",
    "            x = x_new\n",
    "            if has_converged(losses):\n",
    "                break\n",
    "        cur_results.append(it+1)\n",
    "    cur_results = np.array(cur_results)\n",
    "    results0.append(cur_results.mean())"
   ]
  },
  {
   "cell_type": "code",
   "execution_count": 18,
   "metadata": {},
   "outputs": [
    {
     "name": "stdout",
     "output_type": "stream",
     "text": [
      "0.005\n",
      "0.01\n",
      "0.015\n",
      "0.02\n",
      "0.025\n",
      "0.030000000000000002\n",
      "0.034999999999999996\n",
      "0.04\n",
      "0.045\n",
      "0.049999999999999996\n",
      "0.055\n",
      "0.06\n",
      "0.065\n",
      "0.07\n",
      "0.07500000000000001\n",
      "0.08\n",
      "0.085\n",
      "0.09000000000000001\n",
      "0.095\n",
      "0.1\n",
      "0.10500000000000001\n",
      "0.11\n",
      "0.115\n",
      "0.12000000000000001\n",
      "0.125\n",
      "0.13\n",
      "0.135\n",
      "0.14\n",
      "0.14500000000000002\n",
      "0.15\n",
      "0.155\n",
      "0.16\n",
      "0.165\n",
      "0.17\n",
      "0.17500000000000002\n",
      "0.18000000000000002\n",
      "0.185\n",
      "0.19\n",
      "0.195\n",
      "0.2\n",
      "0.20500000000000002\n",
      "0.21000000000000002\n",
      "0.215\n",
      "0.22\n",
      "0.225\n",
      "0.23\n",
      "0.23500000000000001\n",
      "0.24000000000000002\n",
      "0.245\n"
     ]
    }
   ],
   "source": [
    "results2 = []\n",
    "for lr in np.arange(0.005, 0.25, 0.005):\n",
    "    print(lr)\n",
    "    cur_results = []\n",
    "    for i in range(50):\n",
    "        x = np.random.normal(size=4)\n",
    "        iters = 10000  # maximum number of iterations\n",
    "        losses = []\n",
    "        previous_gradient = 0\n",
    "        for it in range(iters):\n",
    "            gradient = simult(x,eps)\n",
    "            x_new = x + 2* lr * gradient - lr * previous_gradient\n",
    "            losses.append(get_losses(x,eps))\n",
    "            previous_gradient = gradient\n",
    "            x = x_new\n",
    "            if has_converged(losses):\n",
    "                break\n",
    "        cur_results.append(it+1)\n",
    "    cur_results = np.array(cur_results)\n",
    "    results2.append(cur_results.mean())"
   ]
  },
  {
   "cell_type": "code",
   "execution_count": 41,
   "metadata": {},
   "outputs": [
    {
     "data": {
      "text/plain": [
       "<matplotlib.legend.Legend at 0x82a25f8>"
      ]
     },
     "execution_count": 41,
     "metadata": {},
     "output_type": "execute_result"
    },
    {
     "data": {
      "image/png": "[encoded data removed]",
      "text/plain": [
       "<Figure size 432x288 with 1 Axes>"
      ]
     },
     "metadata": {
      "needs_background": "light"
     },
     "output_type": "display_data"
    }
   ],
   "source": [
    "plt.plot(np.arange(0.005, 0.25, 0.005),results2, label = 'OMD')\n",
    "plt.plot(np.arange(0.005, 0.25, 0.005),results0, label = 'SGA')\n",
    "plt.title('Iterations to convergence (with criterion from the paper)')\n",
    "plt.xlabel('Learning rate')\n",
    "plt.ylabel('Number of iterations')\n",
    "plt.legend()"
   ]
  }
 ],
 "metadata": {
  "kernelspec": {
   "display_name": "Python 3",
   "language": "python",
   "name": "python3"
  },
  "language_info": {
   "codemirror_mode": {
    "name": "ipython",
    "version": 3
   },
   "file_extension": ".py",
   "mimetype": "text/x-python",
   "name": "python",
   "nbconvert_exporter": "python",
   "pygments_lexer": "ipython3",
   "version": "3.6.6"
  }
 },
 "nbformat": 4,
 "nbformat_minor": 2
}
